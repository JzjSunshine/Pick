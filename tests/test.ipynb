{
 "cells": [
  {
   "cell_type": "code",
   "execution_count": 1,
   "metadata": {},
   "outputs": [],
   "source": [
    "transcripts = ['GERBANG ALAF RESTAURANTS SDN BHD,company', '(65351-M),other', \"LICENSEE OF MCDONALD'S,other\", 'LEVEL 6\\\\, BANGUNAN TH\\\\, DAMANSARA UPTOWN3,address', 'NO.3\\\\, JALAN SS21/39\\\\,47400 PETA ING JAYA,address', 'SELANGOR,other', '(GST ID NO: 000504664064),other', \"MCDONALD'S PERMAS JAYA (#096),other\", '07 - 3865 879,other', 'TEL NO.,other', 'TAX INVOICE,other', 'MFY SIDE 1,other', 'INV# 000960100030435,other', 'ORD #69 -REG #1- 25/05/2018 18:12:50,date', 'TOTAL,other', 'QTY ITEM,other', '11.10,total', '1 L FILETOFISH,other', '1 L COKE,other', '1 L FRIES,other', '11.10,total', 'EAT-IN TOTAL (INCL GST),other', '11.10,total', 'TOTAL ROUNDED,other', '21.10,other', 'CASH TENDERED,other', '10.00,other', 'CHANGE,other', '0.63,other', 'TOTAL INCLUDES 6% GST,other', 'THANK YOU AND PLEASE COME AGAIN.,other', 'GUEST RELATIONS CENTER : 1300-13-1300,other']"
   ]
  },
  {
   "cell_type": "code",
   "execution_count": 2,
   "metadata": {},
   "outputs": [],
   "source": [
    "transcript_len = min(max([len(t) for t in transcripts[:32]]), 50)"
   ]
  },
  {
   "cell_type": "code",
   "execution_count": 3,
   "metadata": {},
   "outputs": [
    {
     "data": {
      "text/plain": [
       "49"
      ]
     },
     "execution_count": 3,
     "metadata": {},
     "output_type": "execute_result"
    }
   ],
   "source": [
    "transcript_len"
   ]
  },
  {
   "cell_type": "code",
   "execution_count": null,
   "metadata": {},
   "outputs": [],
   "source": []
  }
 ],
 "metadata": {
  "kernelspec": {
   "display_name": "pick",
   "language": "python",
   "name": "python3"
  },
  "language_info": {
   "codemirror_mode": {
    "name": "ipython",
    "version": 3
   },
   "file_extension": ".py",
   "mimetype": "text/x-python",
   "name": "python",
   "nbconvert_exporter": "python",
   "pygments_lexer": "ipython3",
   "version": "3.6.13"
  },
  "orig_nbformat": 4
 },
 "nbformat": 4,
 "nbformat_minor": 2
}
